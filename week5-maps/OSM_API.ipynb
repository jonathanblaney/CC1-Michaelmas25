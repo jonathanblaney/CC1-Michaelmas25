{
  "nbformat": 4,
  "nbformat_minor": 0,
  "metadata": {
    "colab": {
      "provenance": []
    },
    "kernelspec": {
      "name": "python3",
      "display_name": "Python 3"
    },
    "language_info": {
      "name": "python"
    }
  },
  "cells": [
    {
      "cell_type": "markdown",
      "source": [
        "You can get the coordinates for the area you want to query by finding it on [OpenStreetMap](openstreetmap.org) and then clicking on 'Export'. The API request wants the coordinates in the order SWNE, but to reduce the chance of error we can just use Python variables to set these. You don't need to click on 'Export', just copy the numbers shown."
      ],
      "metadata": {
        "id": "LtIzu54s62u5"
      }
    },
    {
      "cell_type": "code",
      "source": [
        "north = \"52.21660\"\n",
        "east = \"0.16153\"\n",
        "south = \"52.19351\"\n",
        "west = \"0.09416\""
      ],
      "metadata": {
        "id": "We3j0xLr7ZIB"
      },
      "execution_count": 37,
      "outputs": []
    },
    {
      "cell_type": "markdown",
      "source": [
        "To search the data we need to know the possibilities. OSM data is in key-value pairs. For example, to find restaurants we need `amenity:restaurant`. They key is `amenity` and the value is `restaurant`. You can search for all of a key's values by leaving the value blank, i.e. just search for `amenity`."
      ],
      "metadata": {
        "id": "eK1aMCwX8ydu"
      }
    },
    {
      "cell_type": "code",
      "source": [
        "kv = \"amenity=restaurant\""
      ],
      "metadata": {
        "id": "LCCIdvLx8eDG"
      },
      "execution_count": 41,
      "outputs": []
    },
    {
      "cell_type": "markdown",
      "source": [
        "We can also decide what format we want the data to be provided. The API provides JSON, XML and CSV (but the latter is complicated so we won't do it here: see [the documentation](https://dev.overpass-api.de/overpass-doc/en/targets/formats.html) if you're interested)."
      ],
      "metadata": {
        "id": "BAZ9gO6M9hGR"
      }
    },
    {
      "cell_type": "code",
      "source": [
        "format = \"json\""
      ],
      "metadata": {
        "id": "Xq2lQt51BvZW"
      },
      "execution_count": 39,
      "outputs": []
    },
    {
      "cell_type": "markdown",
      "source": [
        "Finally we need to choose a filename for the data to be saved to."
      ],
      "metadata": {
        "id": "F79gTSjLB5vk"
      }
    },
    {
      "cell_type": "code",
      "source": [
        "filename = \"cambridge-restaurants.osm\""
      ],
      "metadata": {
        "id": "uTNsMg0dCBjp"
      },
      "execution_count": 40,
      "outputs": []
    },
    {
      "cell_type": "markdown",
      "source": [
        "Now we run the query. If we want to make changes, we edit the cells above and so there's less risk of messing up the syntax of the query string. Note that the `$` for variables is not Python but a command line syntax called Bash."
      ],
      "metadata": {
        "id": "oVTDFAiIQdi5"
      }
    },
    {
      "cell_type": "code",
      "source": [
        "!wget -O $filename \"https://overpass-api.de/api/interpreter?data=[out:$format];node[$kv]($south,$west,$north,$east);out;\""
      ],
      "metadata": {
        "colab": {
          "base_uri": "https://localhost:8080/"
        },
        "id": "OPnPbHkhI8Ac",
        "outputId": "3d4038ea-baa3-46f9-ab5e-58fc5263e0a6"
      },
      "execution_count": 43,
      "outputs": [
        {
          "output_type": "stream",
          "name": "stdout",
          "text": [
            "--2025-09-30 11:04:15--  https://overpass-api.de/api/interpreter?data=[out:json];node[amenity=restaurant](52.19351,0.09416,52.21660,0.16153);out;\n",
            "Resolving overpass-api.de (overpass-api.de)... 65.109.112.52, 162.55.144.139, 2a01:4f9:3051:3e48::2, ...\n",
            "Connecting to overpass-api.de (overpass-api.de)|65.109.112.52|:443... connected.\n",
            "HTTP request sent, awaiting response... 200 OK\n",
            "Length: unspecified [application/json]\n",
            "Saving to: ‘cambridge-restaurants.osm’\n",
            "\n",
            "cambridge-restauran     [  <=>               ]  53.13K   233KB/s    in 0.2s    \n",
            "\n",
            "2025-09-30 11:04:18 (233 KB/s) - ‘cambridge-restaurants.osm’ saved [54406]\n",
            "\n"
          ]
        }
      ]
    },
    {
      "cell_type": "markdown",
      "source": [
        "If that worked without error, have a look at the first 30 lines of the file that was created:"
      ],
      "metadata": {
        "id": "H8MrkGIyTFuJ"
      }
    },
    {
      "cell_type": "code",
      "source": [
        "!head -n30 $filename"
      ],
      "metadata": {
        "colab": {
          "base_uri": "https://localhost:8080/"
        },
        "id": "anw3RgNcS4zy",
        "outputId": "331a26a7-3da6-476e-871a-9a0b173276cf"
      },
      "execution_count": 47,
      "outputs": [
        {
          "output_type": "stream",
          "name": "stdout",
          "text": [
            "{\n",
            "  \"version\": 0.6,\n",
            "  \"generator\": \"Overpass API 0.7.62.8 e802775f\",\n",
            "  \"osm3s\": {\n",
            "    \"timestamp_osm_base\": \"2025-09-30T11:03:15Z\",\n",
            "    \"copyright\": \"The data included in this document is from www.openstreetmap.org. The data is made available under ODbL.\"\n",
            "  },\n",
            "  \"elements\": [\n",
            "\n",
            "{\n",
            "  \"type\": \"node\",\n",
            "  \"id\": 20823646,\n",
            "  \"lat\": 52.2026159,\n",
            "  \"lon\": 0.1261288,\n",
            "  \"tags\": {\n",
            "    \"addr:city\": \"Cambridge\",\n",
            "    \"addr:postcode\": \"CB1 1JH\",\n",
            "    \"addr:street\": \"Park Terrace\",\n",
            "    \"alt_name\": \"Baan Thai\",\n",
            "    \"amenity\": \"restaurant\",\n",
            "    \"cuisine\": \"thai\",\n",
            "    \"name\": \"Baan Thai Street Food Restaurant\",\n",
            "    \"opening_hours\": \"12:00-21:00\",\n",
            "    \"phone\": \"+44 1223 300891\",\n",
            "    \"website\": \"https://baanthaicambridge.com/\"\n",
            "  }\n",
            "},\n",
            "{\n",
            "  \"type\": \"node\",\n",
            "  \"id\": 20824011,\n"
          ]
        }
      ]
    },
    {
      "cell_type": "markdown",
      "source": [
        "Colab comes with a number of command line programs installed. For example we can use `jq` to investigate JSON. Here's how we would list all of the names of the restaurants (for more have a look at [the JSON documentation](https://jqlang.org/manual/#invoking-jq))."
      ],
      "metadata": {
        "id": "bz8KoVikWqLX"
      }
    },
    {
      "cell_type": "code",
      "source": [
        "!jq '.elements[].tags.name' $filename"
      ],
      "metadata": {
        "colab": {
          "base_uri": "https://localhost:8080/"
        },
        "id": "LAbc5z6-T680",
        "outputId": "401ebf01-d96c-4297-b868-08973288f00d"
      },
      "execution_count": 71,
      "outputs": [
        {
          "output_type": "stream",
          "name": "stdout",
          "text": [
            "\u001b[0;32m\"Baan Thai Street Food Restaurant\"\u001b[0m\n",
            "\u001b[0;32m\"Midsummer House\"\u001b[0m\n",
            "\u001b[0;32m\"Thrive\"\u001b[0m\n",
            "\u001b[0;32m\"Namaste Village\"\u001b[0m\n",
            "\u001b[0;32m\"Japas Sushi Restaurant\"\u001b[0m\n",
            "\u001b[0;32m\"Prana\"\u001b[0m\n",
            "\u001b[0;32m\"Honest Burgers\"\u001b[0m\n",
            "\u001b[0;32m\"River Bar & Kitchen\"\u001b[0m\n",
            "\u001b[0;32m\"Jay's Fish and Chips\"\u001b[0m\n",
            "\u001b[0;32m\"Agora at The Copper Kettle\"\u001b[0m\n",
            "\u001b[0;32m\"The Cambridge Chop House\"\u001b[0m\n",
            "\u001b[0;32m\"Franco Manca\"\u001b[0m\n",
            "\u001b[0;32m\"tawa bites\"\u001b[0m\n",
            "\u001b[0;32m\"Golpo\"\u001b[0m\n",
            "\u001b[0;32m\"Yim Wah Express\"\u001b[0m\n",
            "\u001b[0;32m\"Little Seoul\"\u001b[0m\n",
            "\u001b[0;32m\"The House\"\u001b[0m\n",
            "\u001b[0;32m\"De Luca Cucina\"\u001b[0m\n",
            "\u001b[0;32m\"@72.China\"\u001b[0m\n",
            "\u001b[0;32m\"Seven Days\"\u001b[0m\n",
            "\u001b[0;32m\"Zizzi\"\u001b[0m\n",
            "\u001b[0;32m\"PizzaExpress\"\u001b[0m\n",
            "\u001b[0;32m\"Novi\"\u001b[0m\n",
            "\u001b[0;32m\"Charlie Chan\"\u001b[0m\n",
            "\u001b[0;32m\"Nando's\"\u001b[0m\n",
            "\u001b[0;32m\"Yori\"\u001b[0m\n",
            "\u001b[0;32m\"Sala Thong\"\u001b[0m\n",
            "\u001b[0;32m\"Rice Boat\"\u001b[0m\n",
            "\u001b[0;32m\"Carluccio's\"\u001b[0m\n",
            "\u001b[0;32m\"Steak and Honour\"\u001b[0m\n",
            "\u001b[0;32m\"Pho\"\u001b[0m\n",
            "\u001b[0;32m\"Bread and Meat\"\u001b[0m\n",
            "\u001b[0;32m\"EKO Kitchen\"\u001b[0m\n",
            "\u001b[0;32m\"Fu\"\u001b[0m\n",
            "\u001b[0;32m\"Akdeniz\"\u001b[0m\n",
            "\u001b[0;32m\"Hanami Cafe & Restaurant\"\u001b[0m\n",
            "\u001b[0;32m\"Efes\"\u001b[0m\n",
            "\u001b[0;32m\"Yippee Noodle Bar\"\u001b[0m\n",
            "\u001b[0;32m\"Kibou\"\u001b[0m\n",
            "\u001b[0;32m\"Hong Kong Fusion\"\u001b[0m\n",
            "\u001b[0;32m\"Trinity\"\u001b[0m\n",
            "\u001b[0;32m\"Mercado Central\"\u001b[0m\n",
            "\u001b[0;32m\"Butch Annie's\"\u001b[0m\n",
            "\u001b[0;32m\"Market House\"\u001b[0m\n",
            "\u001b[0;32m\"Ittou Noodle Bar\"\u001b[0m\n",
            "\u001b[0;32m\"Smokeworks\"\u001b[0m\n",
            "\u001b[0;32m\"Byron\"\u001b[0m\n",
            "\u001b[0;32m\"Curry King\"\u001b[0m\n",
            "\u001b[0;32m\"Kobe Steakhouse\"\u001b[0m\n",
            "\u001b[0;32m\"Chinese Canteen\"\u001b[0m\n",
            "\u001b[0;32m\"Prezzo\"\u001b[0m\n",
            "\u001b[0;32m\"La Margherita\"\u001b[0m\n",
            "\u001b[0;32m\"Thanh Binh\"\u001b[0m\n",
            "\u001b[0;32m\"Maharajah\"\u001b[0m\n",
            "\u001b[0;32m\"Pakka\"\u001b[0m\n",
            "\u001b[0;32m\"Golden Noodle Bistro\"\u001b[0m\n",
            "\u001b[0;32m\"Hakka\"\u001b[0m\n",
            "\u001b[0;32m\"Banana Leaf\"\u001b[0m\n",
            "\u001b[0;32m\"Buren\"\u001b[0m\n",
            "\u001b[0;32m\"Tradizioni\"\u001b[0m\n",
            "\u001b[0;32m\"Zidan’s Piri Piri\"\u001b[0m\n",
            "\u001b[0;32m\"Royal Spice\"\u001b[0m\n",
            "\u001b[0;32m\"Tea House\"\u001b[0m\n",
            "\u001b[0;32m\"ShangWei\"\u001b[0m\n",
            "\u001b[0;32m\"Yori\"\u001b[0m\n",
            "\u001b[0;32m\"Giggling Squid\"\u001b[0m\n",
            "\u001b[0;32m\"Africfood: Òunjé Adun\"\u001b[0m\n",
            "\u001b[0;32m\"Flat Iron Cambridge\"\u001b[0m\n",
            "\u001b[0;32m\"The Oak Bistro\"\u001b[0m\n",
            "\u001b[0;32m\"North China Dumpling\"\u001b[0m\n",
            "\u001b[0;32m\"Ranya Grill\"\u001b[0m\n",
            "\u001b[0;32m\"The Orator\"\u001b[0m\n",
            "\u001b[0;32m\"Fitzbillies\"\u001b[0m\n",
            "\u001b[0;32m\"Taste from Hungary\"\u001b[0m\n",
            "\u001b[0;32m\"Pizza Hut\"\u001b[0m\n",
            "\u001b[0;32m\"Thaikhun\"\u001b[0m\n",
            "\u001b[0;32m\"The Cricketers\"\u001b[0m\n",
            "\u001b[0;32m\"Pipasha\"\u001b[0m\n",
            "\u001b[0;32m\"Raja\"\u001b[0m\n",
            "\u001b[0;32m\"Bill's\"\u001b[0m\n",
            "\u001b[0;32m\"Old Bicycle Shop\"\u001b[0m\n",
            "\u001b[0;32m\"Rocca\"\u001b[0m\n",
            "\u001b[0;32m\"Kung Woo\"\u001b[0m\n",
            "\u001b[0;32m\"1+1 Rougamo\"\u001b[0m\n",
            "\u001b[0;32m\"The Tiffin Truck\"\u001b[0m\n",
            "\u001b[0;32m\"Shake Shack\"\u001b[0m\n",
            "\u001b[0;32m\"The Ivy\"\u001b[0m\n",
            "\u001b[0;32m\"Pizza Pilgrims\"\u001b[0m\n",
            "\u001b[0;32m\"Stazione\"\u001b[0m\n",
            "\u001b[0;32m\"Zizzi\"\u001b[0m\n",
            "\u001b[0;32m\"Tokoko\"\u001b[0m\n",
            "\u001b[0;32m\"Las Iguanas\"\u001b[0m\n",
            "\u001b[0;32m\"Your Dumplings\"\u001b[0m\n",
            "\u001b[0;32m\"Margaret's\"\u001b[0m\n",
            "\u001b[0;32m\"The Olive Grove\"\u001b[0m\n",
            "\u001b[0;32m\"Parkers Tavern\"\u001b[0m\n",
            "\u001b[0;32m\"Sticks’n’Sushi\"\u001b[0m\n",
            "\u001b[0;32m\"Sushimania\"\u001b[0m\n",
            "\u001b[0;32m\"Mr Ho\"\u001b[0m\n",
            "\u001b[0;32m\"Tawa Kitchen\"\u001b[0m\n",
            "\u001b[0;32m\"Moana Poké\"\u001b[0m\n",
            "\u001b[0;32m\"Zi's Piri Piri\"\u001b[0m\n",
            "\u001b[0;32m\"Kan Zaman\"\u001b[0m\n",
            "\u001b[0;32m\"Tu Casa\"\u001b[0m\n",
            "\u001b[0;32m\"The Flying Wok\"\u001b[0m\n",
            "\u001b[0;32m\"Scott’s All Day\"\u001b[0m\n",
            "\u001b[0;32m\"Permit Room\"\u001b[0m\n",
            "\u001b[0;32m\"Six\"\u001b[0m\n",
            "\u001b[0;32m\"La Latina Bustaurante\"\u001b[0m\n"
          ]
        }
      ]
    }
  ]
}