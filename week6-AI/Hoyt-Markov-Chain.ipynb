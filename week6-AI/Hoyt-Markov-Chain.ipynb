{
 "cells": [
  {
   "cell_type": "markdown",
   "id": "3a2c8136",
   "metadata": {},
   "source": [
    "### Markov chain from a text input"
   ]
  },
  {
   "cell_type": "markdown",
   "id": "0c852123",
   "metadata": {},
   "source": [
    "The code here is lightly modified from an original script by Ben Hoyt: https://benhoyt.com/writings/markov-chain/"
   ]
  },
  {
   "cell_type": "code",
   "execution_count": 2,
   "id": "5aecb2aa",
   "metadata": {},
   "outputs": [],
   "source": [
    "import collections, random, sys, textwrap"
   ]
  },
  {
   "cell_type": "markdown",
   "id": "11b9cfb8",
   "metadata": {},
   "source": [
    "Either upload a text or choose one from Project Gutenberg.\n",
    "For Gutenberg find its ID and put it below, otherwise change the ID to 0 and add the name of the uploaded file."
   ]
  },
  {
   "cell_type": "code",
   "execution_count": 79,
   "id": "ba4386f0",
   "metadata": {},
   "outputs": [],
   "source": [
    "gutenberg_id = 0 #345 is the ID for Dracula\n",
    "uploaded_text = \"your-uploaded-file.txt\""
   ]
  },
  {
   "cell_type": "code",
   "execution_count": 80,
   "id": "b1b6d52a",
   "metadata": {},
   "outputs": [],
   "source": [
    "if gutenberg_id:\n",
    "    !curl https://www.gutenberg.org/cache/epub/$gutenberg_id/pg$gutenberg_id.txt > gutenberg-download.txt\n",
    "    text = open(\"gutenberg-download.txt\", 'r')\n",
    "else:\n",
    "    text = open(uploaded_text, 'r')"
   ]
  },
  {
   "cell_type": "markdown",
   "id": "c9653db7",
   "metadata": {},
   "source": [
    "Choose how many words of output to general, eg 100"
   ]
  },
  {
   "cell_type": "code",
   "execution_count": 81,
   "id": "66c1b1c8",
   "metadata": {},
   "outputs": [],
   "source": [
    "num_words = 100"
   ]
  },
  {
   "cell_type": "markdown",
   "id": "99b9c94d",
   "metadata": {},
   "source": [
    "Build a list of pairs of words"
   ]
  },
  {
   "cell_type": "code",
   "execution_count": 82,
   "id": "ba2d2d5d",
   "metadata": {},
   "outputs": [],
   "source": [
    "w1 = w2 = ''\n",
    "possibles = collections.defaultdict(list)\n",
    "for line in text:\n",
    "    for word in line.split():\n",
    "        possibles[w1, w2].append(word)\n",
    "        w1, w2 = w2, word"
   ]
  },
  {
   "cell_type": "code",
   "execution_count": 83,
   "id": "af34d10c",
   "metadata": {},
   "outputs": [],
   "source": [
    "# Avoid empty possibles lists at end of input\n",
    "possibles[w1, w2].append('')\n",
    "possibles[w2, ''].append('')"
   ]
  },
  {
   "cell_type": "markdown",
   "id": "3fd4d04f",
   "metadata": {},
   "source": [
    "generate randomized output (start with a random capitalized prefix)"
   ]
  },
  {
   "cell_type": "code",
   "execution_count": 84,
   "id": "d233ce90",
   "metadata": {},
   "outputs": [
    {
     "name": "stdout",
     "output_type": "stream",
     "text": [
      "Well, call all hands, including the captain, making all sail, and\n",
      "gliding so serenely it spread. At length one of that stifling hour,\n",
      "when the amazement of all ships, whaling vessels crossing each other’s\n",
      "grain at right angles; a line a little more time for the whiteness,\n",
      "you would have snapped all their oaken handspikes and crows were\n",
      "brought alongside the ship, which would threaten to jam him—still\n",
      "further pondering, I say, you Bildad, and get something better. I hope\n",
      "to encounter a single flying-fish yet captured to supply the thoughts.\n",
      "That’s my small experience, so far within us, that in here\n"
     ]
    }
   ],
   "source": [
    "w1, w2 = random.choice([k for k in possibles if k[0][:1].isupper()])\n",
    "output = [w1, w2]\n",
    "for _ in range(num_words):\n",
    "    word = random.choice(possibles[w1, w2])\n",
    "    output.append(word)\n",
    "    w1, w2 = w2, word\n",
    "\n",
    "# Print output wrapped to 70 columns\n",
    "print(textwrap.fill(' '.join(output)))"
   ]
  },
  {
   "cell_type": "markdown",
   "id": "e1122629",
   "metadata": {},
   "source": [
    "If you get a lot of markup (HTML) in the result, this is probably because Gutenberg has blocked download via curl from your IP. You can download the `.txt` file manually from a browser and then upload it to Colab."
   ]
  },
  {
   "cell_type": "code",
   "execution_count": null,
   "id": "433e329e",
   "metadata": {},
   "outputs": [],
   "source": []
  }
 ],
 "metadata": {
  "kernelspec": {
   "display_name": "Python 3 (ipykernel)",
   "language": "python",
   "name": "python3"
  },
  "language_info": {
   "codemirror_mode": {
    "name": "ipython",
    "version": 3
   },
   "file_extension": ".py",
   "mimetype": "text/x-python",
   "name": "python",
   "nbconvert_exporter": "python",
   "pygments_lexer": "ipython3",
   "version": "3.9.6"
  }
 },
 "nbformat": 4,
 "nbformat_minor": 5
}
