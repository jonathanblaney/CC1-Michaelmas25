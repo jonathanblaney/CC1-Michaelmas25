{
 "cells": [
  {
   "cell_type": "markdown",
   "metadata": {
    "id": "iaYSvLafmRDR"
   },
   "source": [
    "## Running handwritten text recognition on Rackham notebooks"
   ]
  },
  {
   "cell_type": "markdown",
   "metadata": {
    "id": "PalZjmwXYeWQ"
   },
   "source": [
    "#### **Important** set these two values before running the code."
   ]
  },
  {
   "cell_type": "code",
   "execution_count": null,
   "metadata": {
    "id": "pkr7qVJ4YpaD"
   },
   "outputs": [],
   "source": [
    "manifest = \"https://cudl.lib.cam.ac.uk//iiif/MS-CCCC-00014-00006-00002-00001-00063.json\" # the URI of the IIIF manifest containing the images\n",
    "spread = \"Y\" # set to \"N\" if the images are not a double spread"
   ]
  },
  {
   "cell_type": "markdown",
   "metadata": {
    "id": "PaeuUiRbd37v"
   },
   "source": [
    "import the libraries we need and which Colab already has"
   ]
  },
  {
   "cell_type": "code",
   "execution_count": null,
   "metadata": {
    "id": "DRUO6pcaeCQO"
   },
   "outputs": [],
   "source": [
    "import json\n",
    "import os\n",
    "import requests"
   ]
  },
  {
   "cell_type": "markdown",
   "metadata": {
    "id": "JfM7Dpf4fs1s"
   },
   "source": [
    "Colab does not have Google's own vision library (even though they are both Google products) so we need to install it before importing it"
   ]
  },
  {
   "cell_type": "code",
   "execution_count": null,
   "metadata": {
    "colab": {
     "base_uri": "https://localhost:8080/"
    },
    "id": "ter6qkzIfRqI",
    "outputId": "aed79d17-54db-46d5-848f-8d8f7529000c"
   },
   "outputs": [],
   "source": [
    "!pip install google-cloud-vision"
   ]
  },
  {
   "cell_type": "code",
   "execution_count": null,
   "metadata": {
    "id": "AZDdOd8Cf8ka"
   },
   "outputs": [],
   "source": [
    "from google.cloud import vision"
   ]
  },
  {
   "cell_type": "markdown",
   "metadata": {
    "id": "_OTgA0oasEAd"
   },
   "source": [
    "Upload a JSON file with the authentication details.\n",
    "\n",
    "If not connecting to an institutional Drive account you could put it there and connect, which is more secure.\n",
    "The code below assumes that the `.json` file is at the top level of the files menu (icon to the left), at the same level as the `sample_data` directory.\n",
    "Note that all files in this directory are deleted after your session ends."
   ]
  },
  {
   "cell_type": "code",
   "execution_count": null,
   "metadata": {
    "id": "JTH-tiW83-It"
   },
   "outputs": [],
   "source": [
    "os.environ[\"GOOGLE_APPLICATION_CREDENTIALS\"] = \"yourfile.json\""
   ]
  },
  {
   "cell_type": "markdown",
   "metadata": {
    "id": "qU6UVohr5DpL"
   },
   "source": [
    "Get a file ready to write any errors to it."
   ]
  },
  {
   "cell_type": "code",
   "execution_count": null,
   "metadata": {
    "id": "Nt8afKcg5IqI"
   },
   "outputs": [],
   "source": [
    "qafile=open('qafile.txt', 'w')"
   ]
  },
  {
   "cell_type": "markdown",
   "metadata": {
    "id": "wvtSEjWd5Txr"
   },
   "source": [
    "This big function gets the images and extracts text from them."
   ]
  },
  {
   "cell_type": "code",
   "execution_count": null,
   "metadata": {
    "id": "iyMu0cTR5jlc"
   },
   "outputs": [],
   "source": [
    "def detect_handwriting_paragraphs(path):\n",
    "    \"\"\"Detects handwriting in the file.\"\"\"\n",
    "    client = vision.ImageAnnotatorClient()\n",
    "\n",
    "    image = vision.Image()\n",
    "    image.source.image_uri = path\n",
    "\n",
    "    #image = vision.Image(content=content)\n",
    "    response = client.document_text_detection(image=image)  # Use document_text_detection for handwriting\n",
    "    annotation = response.full_text_annotation\n",
    "\n",
    "    paragraphs = []\n",
    "    lines = []\n",
    "\n",
    "    for page in annotation.pages:\n",
    "        for block in page.blocks:\n",
    "            for paragraph in block.paragraphs:\n",
    "                para = \"\"\n",
    "                line = \"\"\n",
    "                for word in paragraph.words:\n",
    "                    for symbol in word.symbols:\n",
    "                        line += symbol.text\n",
    "                        #SPACE\n",
    "                        if symbol.property.detected_break.type == 1:\n",
    "                            line += ' '\n",
    "                        #EOL_SURE_SPACE\n",
    "                        if symbol.property.detected_break.type == 3:\n",
    "                            line += ' '\n",
    "                            line=line.replace(\"<\", \"&lt;\")\n",
    "                            line=line.replace(\">\", \"&gt;\")\n",
    "                            line+=\"<lb/>\\n\"\n",
    "                            lines.append(line)\n",
    "                            para += line\n",
    "                            line = ''\n",
    "                        #LINE_BREAK\n",
    "                        if symbol.property.detected_break.type == 5:\n",
    "                            #line+=\"<lb/>\\n\"\n",
    "                            line=line.replace(\"<\", \"&lt;\")\n",
    "                            line=line.replace(\">\", \"&gt;\")\n",
    "                            lines.append(line)\n",
    "                            para += line\n",
    "                            line = ''\n",
    "                paragraphs.append(para)\n",
    "\n",
    "\n",
    "    if response.error.message:\n",
    "        raise Exception('{}\\nFor more info on error messages, check: https://cloud.google.com/apis/design/errors'.format(response.error.message))\n",
    "\n",
    "\n",
    "\n",
    "    return paragraphs"
   ]
  },
  {
   "cell_type": "markdown",
   "metadata": {
    "id": "NrUqnROq6QeN"
   },
   "source": [
    "Get the IIIF manifest, which contains the URLs of the images we want.\n",
    "This URL is set right at the top of the notebook."
   ]
  },
  {
   "cell_type": "code",
   "execution_count": null,
   "metadata": {
    "id": "bpLe3OekZ_UN"
   },
   "outputs": [],
   "source": [
    "r = requests.get(manifest)\n",
    "json_data=r.json()\n"
   ]
  },
  {
   "cell_type": "markdown",
   "metadata": {
    "id": "gfRsmSLPamui"
   },
   "source": [
    "Create an XML file. We will write all transcriptions to one file."
   ]
  },
  {
   "cell_type": "code",
   "execution_count": null,
   "metadata": {
    "id": "Cx0B92Liawpx"
   },
   "outputs": [],
   "source": [
    "xmlfile=open('xmlfile.xml', 'w')"
   ]
  },
  {
   "cell_type": "markdown",
   "metadata": {
    "id": "ZppwcS9Uay2Q"
   },
   "source": [
    "Add the opening elements to the new file"
   ]
  },
  {
   "cell_type": "code",
   "execution_count": null,
   "metadata": {
    "colab": {
     "base_uri": "https://localhost:8080/"
    },
    "id": "1A0Sr6_6a2r_",
    "outputId": "f3633cad-1f12-4c08-8aa7-b2616164d7d0"
   },
   "outputs": [],
   "source": [
    "xmlfile.write(\"<text>\\n<body>\\n<div>\\n\")"
   ]
  },
  {
   "cell_type": "markdown",
   "metadata": {
    "id": "phJ4KRUBbK-w"
   },
   "source": [
    "Now we can iterate through the IIIF manifest. We need to set the counter to 0 to start with."
   ]
  },
  {
   "cell_type": "code",
   "execution_count": null,
   "metadata": {
    "id": "gjh4cPIpbPYw"
   },
   "outputs": [],
   "source": [
    "counter=0"
   ]
  },
  {
   "cell_type": "markdown",
   "metadata": {
    "id": "nahdo_V9bSfl"
   },
   "source": [
    "Iterate through the manifest, passing each URL to Google Vision to do the HTR."
   ]
  },
  {
   "cell_type": "code",
   "execution_count": null,
   "metadata": {
    "colab": {
     "base_uri": "https://localhost:8080/",
     "height": 1000
    },
    "id": "-f9ppSMibhsV",
    "outputId": "9cf0054f-47b1-4003-9a20-ef8c9a25649b"
   },
   "outputs": [],
   "source": [
    "for sequence in json_data['sequences']:\n",
    "  for canvas in sequence['canvases']:\n",
    "    label=canvas['label']\n",
    "    xmlid=\"page-pb-\"+label\n",
    "    counter+=1\n",
    "    facs=\"#page-surface-\"+str(counter)\n",
    "    for image in canvas['images']:\n",
    "      iiif_image=image['resource']['@id']\n",
    "      image_id=iiif_image.rsplit('/', 1)[-1]\n",
    "\n",
    "      #writes out page break information\n",
    "      pb=f'<pb n=\"{label}\" xml:id=\"{xmlid}\" facs=\"{facs}\"/>'\n",
    "      print(pb)\n",
    "      xmlfile.write(pb+\"\\n\")\n",
    "\n",
    "      paragraphs=[]\n",
    "\n",
    "      #gets the text from the image\n",
    "      if spread==\"Y\":\n",
    "        paragraphs_1=detect_handwriting_paragraphs(iiif_image+\"/pct:0,0,50,100/full/0/default.jpg\")\n",
    "        paragraphs_2=detect_handwriting_paragraphs(iiif_image+\"/pct:50,0,100,100/full/0/default.jpg\")\n",
    "        paragraphs=paragraphs_1+paragraphs_2\n",
    "      else:\n",
    "        paragraphs=detect_handwriting_paragraphs(iiif_image+\"/full/full/0/default.jpg\")\n",
    "\n",
    "      for paragraph in paragraphs:\n",
    "        paragraph=paragraph.replace(\"&\", \"&amp;\")\n",
    "        xmlfile.write(\"<p>\"+paragraph+\"</p>\\n\")\n"
   ]
  },
  {
   "cell_type": "markdown",
   "metadata": {
    "id": "h0YhVYRFcwtL"
   },
   "source": [
    "Now the file should have been populated and we can append the closing elements to make the XML well formed."
   ]
  },
  {
   "cell_type": "code",
   "execution_count": null,
   "metadata": {
    "colab": {
     "base_uri": "https://localhost:8080/"
    },
    "id": "_cqxpS6Bc3rE",
    "outputId": "0b24597d-6f5a-48b9-f4a9-21910cd459df"
   },
   "outputs": [],
   "source": [
    "xmlfile.write(\"</div>\\n</body>\\n</text>\")"
   ]
  },
  {
   "cell_type": "markdown",
   "metadata": {
    "id": "DXipGo61eEDS"
   },
   "source": [
    "Show us the top of the file to see what was produced."
   ]
  },
  {
   "cell_type": "code",
   "execution_count": null,
   "metadata": {
    "colab": {
     "base_uri": "https://localhost:8080/"
    },
    "id": "9RY7vtopeLL6",
    "outputId": "0f67967a-c013-4431-b519-6c4f8c73b75b"
   },
   "outputs": [],
   "source": [
    "!head xmlfile.xml"
   ]
  },
  {
   "cell_type": "markdown",
   "metadata": {
    "id": "VsyNBF5glf_R"
   },
   "source": [
    "Want to try with something else? How about this text in Chinese?\n",
    "https://cudl.lib.cam.ac.uk/view/MS-FC-00099-00025/1"
   ]
  },
  {
   "cell_type": "markdown",
   "metadata": {
    "id": "Q2msaSLqmPj1"
   },
   "source": [
    "If you have a look at this, you'll see the pages are single spreads not doubles like the Rackham. That means you'll have to change the SPREAD variable in the cell at the top of the notebook."
   ]
  },
  {
   "cell_type": "markdown",
   "metadata": {
    "id": "v9Hkhw_ul041"
   },
   "source": [
    "The IIIF manifest for this set of images is here, so you need to swap the address at the top of the notebook to run it:\n",
    "\n",
    "https://cudl.lib.cam.ac.uk//iiif/MS-FC-00099-00025.json"
   ]
  },
  {
   "cell_type": "markdown",
   "metadata": {
    "id": "TVLy4wbHmhUb"
   },
   "source": [
    "Finally you might want to change the name of the output file, so that the Rackham transcription is not overwritten. This file will also be an XML file."
   ]
  }
 ],
 "metadata": {
  "colab": {
   "provenance": []
  },
  "kernelspec": {
   "display_name": "Python 3 (ipykernel)",
   "language": "python",
   "name": "python3"
  },
  "language_info": {
   "codemirror_mode": {
    "name": "ipython",
    "version": 3
   },
   "file_extension": ".py",
   "mimetype": "text/x-python",
   "name": "python",
   "nbconvert_exporter": "python",
   "pygments_lexer": "ipython3",
   "version": "3.12.3"
  }
 },
 "nbformat": 4,
 "nbformat_minor": 1
}
