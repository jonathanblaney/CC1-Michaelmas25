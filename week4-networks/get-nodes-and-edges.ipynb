{
 "cells": [
  {
   "cell_type": "code",
   "execution_count": null,
   "id": "fb15b3dc",
   "metadata": {},
   "outputs": [],
   "source": [
    "# here we'll need to wget in the epsilon data from the Core repo"
   ]
  },
  {
   "cell_type": "markdown",
   "id": "2983d8b9",
   "metadata": {},
   "source": [
    "Before getting a particular year of data, let's have a quick look at what years are actually present in the data. We'll use `cut` to only return column 6 from the CSV, `grep` to extract only the four digits of the year, `sort` and `uniq` to remove duplicates and then `paste` to put them side by side and so easier to read."
   ]
  },
  {
   "cell_type": "code",
   "execution_count": 132,
   "id": "ab61638a",
   "metadata": {},
   "outputs": [
    {
     "name": "stdout",
     "output_type": "stream",
     "text": [
      "1759\t1781\t1782\t1783\t1784\r\n",
      "1785\t1786\t1787\t1788\t1789\r\n",
      "1790\t1791\t1792\t1793\t1794\r\n",
      "1795\t1796\t1797\t1798\t1799\r\n",
      "1800\t1801\t1802\t1803\t1804\r\n",
      "1805\t1806\t1807\t1808\t1809\r\n",
      "1810\t1811\t1812\t1813\t1814\r\n",
      "1815\t1816\t1817\t1818\t1819\r\n",
      "1820\t1821\t1822\t1823\t1824\r\n",
      "1825\t1826\t1827\t1828\t1829\r\n",
      "1830\t1831\t1855\t1857\t1872\r\n",
      "1873\t1877\t\t\t\r\n"
     ]
    }
   ],
   "source": [
    "!cut -d, -f6 linnean-society.csv | grep -Eo \"[0-9][0-9][0-9][0-9]\" | sort | uniq | paste - - - - -"
   ]
  },
  {
   "cell_type": "markdown",
   "id": "b0c1f01a",
   "metadata": {},
   "source": [
    "Enter the year you want from the list above inside the double quotes:"
   ]
  },
  {
   "cell_type": "code",
   "execution_count": 106,
   "id": "7fe6ad5a",
   "metadata": {},
   "outputs": [],
   "source": [
    "year = \"1783\""
   ]
  },
  {
   "cell_type": "markdown",
   "id": "e34f9278",
   "metadata": {},
   "source": [
    "First we'll use `grep` to get all the lines which contain this year. Grep returns all lines in a file which contain the string. Here the year is preceded by a comma and followed by a dash (to try to exclude false positives):"
   ]
  },
  {
   "cell_type": "code",
   "execution_count": 107,
   "id": "0a29b548",
   "metadata": {},
   "outputs": [
    {
     "name": "stdout",
     "output_type": "stream",
     "text": [
      "LINNEAN454,\"Broussonet\",\"Pierre Marie Auguste\",\"Smith\",\"Sir James Edward\",1783-01-20,\"20 Jan 1783\",\"Montpellier, France\",\"Edinburgh\",\"GB-110/JES/COR/1/99, The Linnean Society of London\",\"fre\",\"\",\"LINNEAN454.xml\"\r\n",
      "LINNEAN1511,\"Woodward\",\"Thomas Jenkinson\",\"Smith\",\"Sir James Edward\",1783-03-16,\"16 Mar 1783\",\"Bungay, Suffolk\",\"Edinburgh\",\"GB-110/JES/COR/18/7, The Linnean Society of London\",\"eng\",\"\",\"LINNEAN1511.xml\"\r\n",
      "LINNEAN1603,\"Smith\",\"Sir James Edward\",\"Smith\",\"James\",1783-03-06,\"6 Mar 1783\",\"Edinburgh\",\"\",\"GB-110/JES/COR/19/29, The Linnean Society of London\",\"eng\",\"\",\"LINNEAN1603.xml\"\r\n",
      "LINNEAN1688,\"Erskine\",\"David Steuart\",\"Smith\",\"Sir James Edward\",1783-01-01,\"[1783]\",\"Edinburgh\",\"Edinburgh\",\"GB-110/JES/COR/2/104, The Linnean Society of London\",\"eng\",\"\",\"LINNEAN1688.xml\"\r\n",
      "LINNEAN1703,\"Hamilton\",\"Francis\",\"Smith\",\"Sir James Edward\",1783-11-16,\"16 Nov 1783\",\"Leny, Callander, Stirling\",\"London\",\"GB-110/JES/COR/2/118, The Linnean Society of London\",\"eng\",\"\",\"LINNEAN1703.xml\"\r\n",
      "LINNEAN1704,\"Hamilton\",\"Francis\",\"Smith\",\"Sir James Edward\",1783-12-28,\"28 Dec 1783\",\"Edinburgh\",\"London\",\"GB-110/JES/COR/2/119, The Linnean Society of London\",\"eng\",\"\",\"LINNEAN1704.xml\"\r\n",
      "LINNEAN1836,\"Black\",\"Joseph\",\"Smith\",\"Sir James Edward\",1783-12-28,\"28 Dec 1783\",\"Edinburgh\",\"\",\"GB-110/JES/COR/20/104, The Linnean Society of London\",\"eng\",\"\",\"LINNEAN1836.xml\"\r\n",
      "LINNEAN2310,\"McGarroch\",\"James Burgess\",\"Smith\",\"Sir James Edward\",1783-06-20,\"20 Jun 1783\",\"Kirkmichael, Scotland\",\"\",\"GB-110/JES/COR/24/3, The Linnean Society of London\",\"eng\",\"\",\"LINNEAN2310.xml\"\r\n",
      "LINNEAN2321,\"McGarroch\",\"James Burgess\",\"Smith\",\"Sir James Edward\",1783-10-09,\"9 Oct 1783\",\"Kirkmichael, Scotland\",\"\",\"GB-110/JES/COR/24/4, The Linnean Society of London\",\"eng\",\"\",\"LINNEAN2321.xml\"\r\n",
      "LINNEAN2339,\"Pitchford\",\"John\",\"Smith\",\"Sir James Edward\",1783-10-21,\"21 Oct 1783\",\"Norwich, Norfolk\",\"London\",\"GB-110/JES/COR/24/56, The Linnean Society of London\",\"eng\",\"\",\"LINNEAN2339.xml\"\r\n",
      "LINNEAN2420,\"Repton\",\"Humphry\",\"Smith\",\"Sir James Edward\",1783-01-23,\"23 Jan 1783\",\"Sustead, Norfolk\",\"Edinburgh\",\"GB-110/JES/COR/25/4, The Linnean Society of London\",\"eng\",\"\",\"LINNEAN2420.xml\"\r\n",
      "LINNEAN3529,\"Smith\",\"Sir James Edward\",\"Smith\",\"James\",1783-10-18,\"18 Oct 1783\",\"London\",\"Norwich, Norfolk\",\"GB-110/JES/SM/2, The Linnean Society of London\",\"eng\",\"\",\"LINNEAN3529.xml\"\r\n"
     ]
    }
   ],
   "source": [
    "!grep \",$year-\" linnean-society.csv"
   ]
  },
  {
   "cell_type": "markdown",
   "id": "401b5b18",
   "metadata": {},
   "source": [
    "Now we want to cut out columns 2 and 4, which contain the surname of sender and recipient. By default the column separator with the `cut` command is a space so we set the delimiter to a comma:"
   ]
  },
  {
   "cell_type": "code",
   "execution_count": 108,
   "id": "68cec315",
   "metadata": {},
   "outputs": [
    {
     "name": "stdout",
     "output_type": "stream",
     "text": [
      "\"Broussonet\",\"Smith\"\r\n",
      "\"Woodward\",\"Smith\"\r\n",
      "\"Smith\",\"Smith\"\r\n",
      "\"Erskine\",\"Smith\"\r\n",
      "\"Hamilton\",\"Smith\"\r\n",
      "\"Hamilton\",\"Smith\"\r\n",
      "\"Black\",\"Smith\"\r\n",
      "\"McGarroch\",\"Smith\"\r\n",
      "\"McGarroch\",\"Smith\"\r\n",
      "\"Pitchford\",\"Smith\"\r\n",
      "\"Repton\",\"Smith\"\r\n",
      "\"Smith\",\"Smith\"\r\n"
     ]
    }
   ],
   "source": [
    "!grep \",$year-\" linnean-society.csv | cut -d, -f2,4"
   ]
  },
  {
   "cell_type": "markdown",
   "id": "8aa419db",
   "metadata": {},
   "source": [
    "To get the counts for edges we count the number of occurrences of each unique line:"
   ]
  },
  {
   "cell_type": "code",
   "execution_count": 109,
   "id": "621c2ac2",
   "metadata": {},
   "outputs": [
    {
     "name": "stdout",
     "output_type": "stream",
     "text": [
      "   1 \"Black\",\"Smith\"\r\n",
      "   1 \"Broussonet\",\"Smith\"\r\n",
      "   1 \"Erskine\",\"Smith\"\r\n",
      "   2 \"Hamilton\",\"Smith\"\r\n",
      "   2 \"McGarroch\",\"Smith\"\r\n",
      "   1 \"Pitchford\",\"Smith\"\r\n",
      "   1 \"Repton\",\"Smith\"\r\n",
      "   2 \"Smith\",\"Smith\"\r\n",
      "   1 \"Woodward\",\"Smith\"\r\n"
     ]
    }
   ],
   "source": [
    "!grep \",$year-\" linnean-society.csv | cut -d, -f2,4 | sort | uniq -c"
   ]
  },
  {
   "cell_type": "markdown",
   "id": "3101a5f9",
   "metadata": {},
   "source": [
    "Finally we need to make this into CSV. For Gephi, we should also move the number to the end (so Gephi doesn't think it's an ID). We'll also remove the `\"` marks using `tr`."
   ]
  },
  {
   "cell_type": "code",
   "execution_count": 125,
   "id": "fd853a30",
   "metadata": {},
   "outputs": [
    {
     "name": "stdout",
     "output_type": "stream",
     "text": [
      "Black,Smith,1\r\n",
      "Broussonet,Smith,1\r\n",
      "Erskine,Smith,1\r\n",
      "Hamilton,Smith,2\r\n",
      "McGarroch,Smith,2\r\n",
      "Pitchford,Smith,1\r\n",
      "Repton,Smith,1\r\n",
      "Smith,Smith,2\r\n",
      "Woodward,Smith,1\r\n"
     ]
    }
   ],
   "source": [
    "!grep \",$year-\" linnean-society.csv | cut -d, -f2,4 | sort | uniq -c | tr -d '\"' | perl -pe 's/ +([0-9]+) +(.+$)/$2,$1/'"
   ]
  },
  {
   "cell_type": "markdown",
   "id": "044ba408",
   "metadata": {},
   "source": [
    "If this all looks good we can write it out to a file. If you get very few (or no) matches you can try a different year by resetting the year variable in the cell towards the top of this notebook. As we do this we'll also add the headings that Gephi (but not Flourish) requires for an edges table."
   ]
  },
  {
   "cell_type": "code",
   "execution_count": 126,
   "id": "8c9b9f46",
   "metadata": {},
   "outputs": [],
   "source": [
    "!echo \"source,target,count\" > \"$year-edges.csv\"\n",
    "!grep \",$year-\" linnean-society.csv | cut -d, -f2,4 | sort | uniq -c | tr -d '\"' | perl -pe 's/ +([0-9]+) +(.+$)/$2,$1/' >> \"$year-edges.csv\""
   ]
  },
  {
   "cell_type": "markdown",
   "id": "2348bb26",
   "metadata": {},
   "source": [
    "To get nodes with counts we need to follow a similar procedure but to combine the two columns into one. To get one column under another with cut, the two commands are run consecutively (separated by a semi-colon) and put in round brackets so that everything inside the brackets is executed before the following commands operate."
   ]
  },
  {
   "cell_type": "code",
   "execution_count": 114,
   "id": "4d51bfdb",
   "metadata": {},
   "outputs": [
    {
     "name": "stdout",
     "output_type": "stream",
     "text": [
      "   1 \"Black\"\r\n",
      "   1 \"Broussonet\"\r\n",
      "   1 \"Erskine\"\r\n",
      "   2 \"Hamilton\"\r\n",
      "   2 \"McGarroch\"\r\n",
      "   1 \"Pitchford\"\r\n",
      "   1 \"Repton\"\r\n",
      "  14 \"Smith\"\r\n",
      "   1 \"Woodward\"\r\n"
     ]
    }
   ],
   "source": [
    "!(grep \",$year-\" linnean-society.csv | cut -d, -f2; grep \",$year-\" linnean-society.csv | cut -d, -f4) | sort | uniq -c"
   ]
  },
  {
   "cell_type": "markdown",
   "id": "df102139",
   "metadata": {},
   "source": [
    "And again we'll move the numbers to the end and insert a comma to create a valid CSV file."
   ]
  },
  {
   "cell_type": "code",
   "execution_count": 127,
   "id": "30662b62",
   "metadata": {},
   "outputs": [
    {
     "name": "stdout",
     "output_type": "stream",
     "text": [
      "Black,1\r\n",
      "Broussonet,1\r\n",
      "Erskine,1\r\n",
      "Hamilton,2\r\n",
      "McGarroch,2\r\n",
      "Pitchford,1\r\n",
      "Repton,1\r\n",
      "Smith,14\r\n",
      "Woodward,1\r\n"
     ]
    }
   ],
   "source": [
    "!(grep \",$year-\" linnean-society.csv | cut -d, -f2; grep \",$year-\" linnean-society.csv | cut -d, -f4) | sort | uniq -c | tr -d '\"' | perl -pe 's/ +([0-9]+) +(.+$)/$2,$1/'"
   ]
  },
  {
   "cell_type": "markdown",
   "id": "bf8ee8a3",
   "metadata": {},
   "source": [
    "If all looks good we can again write this to a file:"
   ]
  },
  {
   "cell_type": "code",
   "execution_count": 122,
   "id": "298d29ec",
   "metadata": {},
   "outputs": [],
   "source": [
    "!(grep \",$year-\" linnean-society.csv | cut -d, -f2; grep \",$year-\" linnean-society.csv | cut -d, -f4) | sort | uniq -c | perl -pe 's/ +([0-9]+) +(.+$)/$2,$1/' > \"$year-nodes.csv\""
   ]
  }
 ],
 "metadata": {
  "kernelspec": {
   "display_name": "Python 3 (ipykernel)",
   "language": "python",
   "name": "python3"
  },
  "language_info": {
   "codemirror_mode": {
    "name": "ipython",
    "version": 3
   },
   "file_extension": ".py",
   "mimetype": "text/x-python",
   "name": "python",
   "nbconvert_exporter": "python",
   "pygments_lexer": "ipython3",
   "version": "3.9.6"
  }
 },
 "nbformat": 4,
 "nbformat_minor": 5
}
