{
 "cells": [
  {
   "cell_type": "markdown",
   "id": "38eddfcc",
   "metadata": {},
   "source": [
    "## Command line pipelines to get nodes and edges\n",
    "\n",
    "This notebook doesn't contain any Python but only command line commands to reshape the data. You could do the same thing in Python (for example with the Pandas library) or with many other languages and tools, but the command line seems nice and simple for this task. \n",
    "\n",
    "We will build up most of these commands piece by piece. We've broken them down here to show what's happening at each stage and to check that the commands are working correctly."
   ]
  },
  {
   "cell_type": "markdown",
   "id": "ed79fd9d",
   "metadata": {},
   "source": [
    "First we will get the CSV of the Linnean Society correspondence from the Core Course 1 repository on GitHub:"
   ]
  },
  {
   "cell_type": "code",
   "execution_count": null,
   "id": "fb15b3dc",
   "metadata": {},
   "outputs": [],
   "source": [
    "!wget https://raw.githubusercontent.com/jonathanblaney/CC1-Michaelmas25/refs/heads/main/week4-networks/linnean-society.csv"
   ]
  },
  {
   "cell_type": "markdown",
   "id": "2983d8b9",
   "metadata": {},
   "source": [
    "Before getting a particular year of data, let's have a quick look at what years are actually present in the data so we don't waste time on unrepresented years. We'll use `cut` to only return column 6 from the CSV, `grep` to extract only the four digits of the year, `sort` and `uniq` to remove duplicates and then `paste` to put them side by side and so easier to read."
   ]
  },
  {
   "cell_type": "code",
   "execution_count": null,
   "id": "ab61638a",
   "metadata": {},
   "outputs": [],
   "source": [
    "!cut -d, -f6 linnean-society.csv | grep -Eo \"[0-9][0-9][0-9][0-9]\" | sort | uniq | paste - - - - -"
   ]
  },
  {
   "cell_type": "markdown",
   "id": "b0c1f01a",
   "metadata": {},
   "source": [
    "Enter one year from the list above inside the double quotes:"
   ]
  },
  {
   "cell_type": "code",
   "execution_count": null,
   "id": "7fe6ad5a",
   "metadata": {},
   "outputs": [],
   "source": [
    "year = \"1811\""
   ]
  },
  {
   "cell_type": "markdown",
   "id": "e34f9278",
   "metadata": {},
   "source": [
    "First we'll use `grep` to get all the lines which contain this year. Grep returns all lines in a file which contain the string. Here the year is preceded by a comma and followed by a dash (to try to exclude false positives):"
   ]
  },
  {
   "cell_type": "code",
   "execution_count": null,
   "id": "0a29b548",
   "metadata": {},
   "outputs": [],
   "source": [
    "!grep \",$year-\" linnean-society.csv"
   ]
  },
  {
   "cell_type": "markdown",
   "id": "401b5b18",
   "metadata": {},
   "source": [
    "Now we want to cut out columns 2 and 4, which contain the surname of sender and recipient. By default, the column separator with the `cut` command is a space so we set the delimiter to a comma instead:"
   ]
  },
  {
   "cell_type": "code",
   "execution_count": null,
   "id": "68cec315",
   "metadata": {},
   "outputs": [],
   "source": [
    "!grep \",$year-\" linnean-society.csv | cut -d, -f2,4"
   ]
  },
  {
   "cell_type": "markdown",
   "id": "8aa419db",
   "metadata": {},
   "source": [
    "To get the counts for edges we count the number of occurrences of each unique line:"
   ]
  },
  {
   "cell_type": "code",
   "execution_count": null,
   "id": "621c2ac2",
   "metadata": {},
   "outputs": [],
   "source": [
    "!grep \",$year-\" linnean-society.csv | cut -d, -f2,4 | sort | uniq -c"
   ]
  },
  {
   "cell_type": "markdown",
   "id": "3101a5f9",
   "metadata": {},
   "source": [
    "Finally we need to make this into CSV. For Gephi, we should also move the number to the end (so Gephi doesn't think it's an ID). We'll also remove the `\"` marks using `tr`."
   ]
  },
  {
   "cell_type": "code",
   "execution_count": null,
   "id": "fd853a30",
   "metadata": {},
   "outputs": [],
   "source": [
    "!grep \",$year-\" linnean-society.csv | cut -d, -f2,4 | sort | uniq -c | tr -d '\"' | perl -pe 's/ +([0-9]+) +(.+$)/$2,$1/'"
   ]
  },
  {
   "cell_type": "markdown",
   "id": "044ba408",
   "metadata": {},
   "source": [
    "If this all looks good we can write it out to a file. If you get very few (or no) matches you can try a different year by resetting the year variable in the cell towards the top of this notebook and running the commands again. When we add the data we'll also prepend the headings that Gephi (but not Flourish) requires for an edges table."
   ]
  },
  {
   "cell_type": "code",
   "execution_count": null,
   "id": "8c9b9f46",
   "metadata": {},
   "outputs": [],
   "source": [
    "!echo \"source,target,count\" > \"$year-edges.csv\"\n",
    "!grep \",$year-\" linnean-society.csv | cut -d, -f2,4 | sort | uniq -c | tr -d '\"' | perl -pe 's/ +([0-9]+) +(.+$)/$2,$1/' >> \"$year-edges.csv\""
   ]
  },
  {
   "cell_type": "markdown",
   "id": "2348bb26",
   "metadata": {},
   "source": [
    "To get nodes with counts we need to follow a similar procedure but to combine the two columns into one. To get one column under another with cut, the two commands are run consecutively (separated by a semi-colon) and put in round brackets so that everything inside the brackets is executed before the following commands operate."
   ]
  },
  {
   "cell_type": "code",
   "execution_count": null,
   "id": "4d51bfdb",
   "metadata": {},
   "outputs": [],
   "source": [
    "!(grep \",$year-\" linnean-society.csv | cut -d, -f2; grep \",$year-\" linnean-society.csv | cut -d, -f4) | sort | uniq -c"
   ]
  },
  {
   "cell_type": "markdown",
   "id": "df102139",
   "metadata": {},
   "source": [
    "And again we'll move the numbers to the end and insert a comma to create a valid CSV file."
   ]
  },
  {
   "cell_type": "code",
   "execution_count": null,
   "id": "30662b62",
   "metadata": {},
   "outputs": [],
   "source": [
    "!(grep \",$year-\" linnean-society.csv | cut -d, -f2; grep \",$year-\" linnean-society.csv | cut -d, -f4) | sort | uniq -c | tr -d '\"' | perl -pe 's/ +([0-9]+) +(.+$)/$2,$1/'"
   ]
  },
  {
   "cell_type": "markdown",
   "id": "bf8ee8a3",
   "metadata": {},
   "source": [
    "If all looks good we can again write this to a file:"
   ]
  },
  {
   "cell_type": "code",
   "execution_count": null,
   "id": "298d29ec",
   "metadata": {},
   "outputs": [],
   "source": [
    "!(grep \",$year-\" linnean-society.csv | cut -d, -f2; grep \",$year-\" linnean-society.csv | cut -d, -f4) | sort | uniq -c | tr -d '\"' | perl -pe 's/ +([0-9]+) +(.+$)/$2,$1/' > \"$year-nodes.csv\""
   ]
  }
 ],
 "metadata": {
  "kernelspec": {
   "display_name": "Python 3 (ipykernel)",
   "language": "python",
   "name": "python3"
  },
  "language_info": {
   "codemirror_mode": {
    "name": "ipython",
    "version": 3
   },
   "file_extension": ".py",
   "mimetype": "text/x-python",
   "name": "python",
   "nbconvert_exporter": "python",
   "pygments_lexer": "ipython3",
   "version": "3.9.6"
  }
 },
 "nbformat": 4,
 "nbformat_minor": 5
}
